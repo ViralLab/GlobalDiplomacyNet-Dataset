{
 "cells": [
  {
   "cell_type": "markdown",
   "metadata": {},
   "source": [
    "## Dataset Summary figure"
   ]
  },
  {
   "cell_type": "markdown",
   "metadata": {},
   "source": [
    "Please download the dataset at [Harvard Dataverse](https://doi.org/10.7910/DVN/OFN15B)\n",
    "\n",
    "<blockquote style=\"background-color:#fff8e1; border-left:5px solid #ffeb3b; padding:10px 20px; color:#333; font-style:italic;\">\n",
    "  ⚠️ <strong>Note:</strong> Dataset versions ≤ <strong>2.0</strong> contain only a <strong>10%</strong> sample of the full data.<br>\n",
    "  As a result, figures derived from these versions may differ from those reported in the paper.\n",
    "</blockquote>\n",
    "\n"
   ]
  },
  {
   "cell_type": "code",
   "execution_count": null,
   "metadata": {},
   "outputs": [],
   "source": [
    "%pip install langcodes tqdm numpy seaborn matplotlib"
   ]
  },
  {
   "cell_type": "code",
   "execution_count": null,
   "metadata": {},
   "outputs": [],
   "source": [
    "from figure2 import *"
   ]
  },
  {
   "cell_type": "code",
   "execution_count": null,
   "metadata": {},
   "outputs": [],
   "source": [
    "data_dir= '' # path of the dataset\n",
    "\n",
    "countries=get_countries(data_dir)\n",
    "country_dicts = get_country_dicts(countries)\n",
    "combined_dicts = create_combined_dict(country_dicts)"
   ]
  },
  {
   "cell_type": "markdown",
   "metadata": {},
   "source": [
    "### Single Figures"
   ]
  },
  {
   "cell_type": "code",
   "execution_count": null,
   "metadata": {},
   "outputs": [],
   "source": [
    "fig, ax= plt.subplots(figsize=(20,5))\n",
    "plot_heatmap(combined_dicts,2000,ax=ax)\n",
    "plt.tight_layout()\n",
    "plt.show()"
   ]
  },
  {
   "cell_type": "code",
   "execution_count": null,
   "metadata": {},
   "outputs": [],
   "source": [
    "fig, ax= plt.subplots(figsize=(6,4))\n",
    "plot_start_years(country_dicts,ax=ax)\n",
    "plt.tight_layout()\n",
    "plt.show()"
   ]
  },
  {
   "cell_type": "code",
   "execution_count": null,
   "metadata": {},
   "outputs": [],
   "source": [
    "image_counts = get_image_counts(countries)\n",
    "fig, ax= plt.subplots(figsize=(6,4))\n",
    "plot_image_counts(image_counts,ax=ax)\n",
    "plt.tight_layout()\n",
    "plt.show()"
   ]
  },
  {
   "cell_type": "code",
   "execution_count": null,
   "metadata": {},
   "outputs": [],
   "source": [
    "languages = get_language_counts(countries)\n",
    "fig, ax= plt.subplots(figsize=(6,4))\n",
    "plot_languages(languages,ax=ax)\n",
    "plt.tight_layout()\n",
    "plt.show()"
   ]
  },
  {
   "cell_type": "code",
   "execution_count": null,
   "metadata": {},
   "outputs": [],
   "source": [
    "length_dist = get_content_length_distribution(countries)\n",
    "fig, ax= plt.subplots(figsize=(6,4))\n",
    "plot_content_length_dist(length_dist,ax=ax)\n",
    "plt.tight_layout()\n",
    "plt.show()"
   ]
  },
  {
   "cell_type": "markdown",
   "metadata": {},
   "source": [
    "### GridSpec"
   ]
  },
  {
   "cell_type": "code",
   "execution_count": null,
   "metadata": {},
   "outputs": [],
   "source": [
    "fig = plt.figure(figsize=(18,9))\n",
    "\n",
    "gs = GridSpec(ncols=4,nrows=2, figure=fig, height_ratios=[1.5,1], width_ratios=[1,1,1,1])\n",
    "\n",
    "ax0 = fig.add_subplot(gs[0, :])\n",
    "plot_heatmap(combined_dicts,2000, ax=ax0)\n",
    "\n",
    "ax1 = fig.add_subplot(gs[1, 0])\n",
    "plot_languages(languages, ax=ax1)\n",
    "\n",
    "ax2 = fig.add_subplot(gs[1, 1])\n",
    "plot_start_years(country_dicts, ax=ax2)\n",
    "\n",
    "ax3 = fig.add_subplot(gs[1, 2])\n",
    "plot_content_length_dist(length_dist,ax=ax3)\n",
    "\n",
    "ax4 = fig.add_subplot(gs[1, 3])\n",
    "plot_image_counts(image_counts,ax=ax4)\n",
    "\n",
    "plt.subplots_adjust(hspace=0.2, wspace=0.2)\n",
    "fig.tight_layout()\n",
    "\n",
    "# Shrinking first figure\n",
    "pos = ax0.get_position()\n",
    "ax0.set_position([pos.x0, pos.y0, pos.width * 0.96, pos.height])\n",
    "\n",
    "cax = fig.add_axes([\n",
    "    ax0.get_position().x1 + 0.02,  # Keep it slightly to the right of ax4\n",
    "    ax0.get_position().y0,  # Align with the bottom row\n",
    "    0.015,  # Width of the colorbar\n",
    "    ax0.get_position().height  # Match height to ax4\n",
    "])\n",
    "\n",
    "cb = fig.colorbar(ax0.collections[0], cax=cax)\n",
    "\n",
    "# Subplot Labels\n",
    "labels = [ 'b)', 'c)', 'd)', 'e)']\n",
    "axes = [ ax1, ax2, ax3, ax4]\n",
    "\n",
    "ax0.text(-0.035, 1.05, 'a)', transform=ax0.transAxes, \n",
    "            size=18, va='top', ha='right')\n",
    "\n",
    "for label, ax in zip(labels, axes):\n",
    "    ax.text(-0.1, 1.08, label, transform=ax.transAxes, \n",
    "            size=18, va='top', ha='right')\n",
    "\n",
    "# plt.savefig('./some_path.pdf')\n",
    "plt.show()"
   ]
  }
 ],
 "metadata": {
  "kernelspec": {
   "display_name": "Python (myenv) kaan",
   "language": "python",
   "name": "myenv"
  },
  "language_info": {
   "codemirror_mode": {
    "name": "ipython",
    "version": 3
   },
   "file_extension": ".py",
   "mimetype": "text/x-python",
   "name": "python",
   "nbconvert_exporter": "python",
   "pygments_lexer": "ipython3",
   "version": "3.10.12"
  }
 },
 "nbformat": 4,
 "nbformat_minor": 2
}
